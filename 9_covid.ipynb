{
 "cells": [
  {
   "cell_type": "code",
   "execution_count": 1,
   "metadata": {},
   "outputs": [
    {
     "data": {
      "text/html": [
       "        <script type=\"text/javascript\">\n",
       "        window.PlotlyConfig = {MathJaxConfig: 'local'};\n",
       "        if (window.MathJax && window.MathJax.Hub && window.MathJax.Hub.Config) {window.MathJax.Hub.Config({SVG: {font: \"STIX-Web\"}});}\n",
       "        if (typeof require !== 'undefined') {\n",
       "        require.undef(\"plotly\");\n",
       "        requirejs.config({\n",
       "            paths: {\n",
       "                'plotly': ['https://cdn.plot.ly/plotly-2.14.0.min']\n",
       "            }\n",
       "        });\n",
       "        require(['plotly'], function(Plotly) {\n",
       "            window._Plotly = Plotly;\n",
       "        });\n",
       "        }\n",
       "        </script>\n",
       "        "
      ]
     },
     "metadata": {},
     "output_type": "display_data"
    }
   ],
   "source": [
    "import pandas as pd\n",
    "import numpy as np\n",
    "import matplotlib.pyplot as plt\n",
    "import cufflinks as cf\n",
    "from IPython.display import display,HTML"
   ]
  },
  {
   "cell_type": "code",
   "execution_count": null,
   "metadata": {},
   "outputs": [],
   "source": [
    "#Leo mi archivo.csv\n",
    "data = pd.read_csv(\"COVID19Mexico.csv\")\n",
    "#Filtro por filas\n",
    "data= data.iloc[0:100000,: ]\n",
    "data\n"
   ]
  },
  {
   "cell_type": "code",
   "execution_count": 9,
   "metadata": {},
   "outputs": [
    {
     "data": {
      "text/plain": [
       "Unnamed: 0               0\n",
       "FECHA_ACTUALIZACION      0\n",
       "ID_REGISTRO              0\n",
       "ORIGEN                   0\n",
       "SECTOR                   1\n",
       "ENTIDAD_UM               1\n",
       "SEXO                     1\n",
       "ENTIDAD_NAC              0\n",
       "ENTIDAD_RES              0\n",
       "MUNICIPIO_RES            1\n",
       "TIPO_PACIENTE            0\n",
       "FECHA_INGRESO            0\n",
       "FECHA_SINTOMAS           0\n",
       "FECHA_DEF                0\n",
       "INTUBADO                 0\n",
       "NEUMONIA                 0\n",
       "EDAD                     3\n",
       "NACIONALIDAD             0\n",
       "EMBARAZO                 2\n",
       "HABLA_LENGUA_INDIG       0\n",
       "INDIGENA                 0\n",
       "DIABETES                 0\n",
       "EPOC                     0\n",
       "ASMA                     0\n",
       "INMUSUPR                 0\n",
       "HIPERTENSION             1\n",
       "OTRA_COM                 0\n",
       "CARDIOVASCULAR           0\n",
       "OBESIDAD                 0\n",
       "RENAL_CRONICA            0\n",
       "TABAQUISMO               1\n",
       "OTRO_CASO                1\n",
       "TOMA_MUESTRA_LAB         0\n",
       "RESULTADO_LAB            0\n",
       "TOMA_MUESTRA_ANTIGENO    0\n",
       "RESULTADO_ANTIGENO       1\n",
       "CLASIFICACION_FINAL      0\n",
       "MIGRANTE                 0\n",
       "PAIS_NACIONALIDAD        2\n",
       "PAIS_ORIGEN              0\n",
       "UCI                      0\n",
       "dtype: int64"
      ]
     },
     "execution_count": 9,
     "metadata": {},
     "output_type": "execute_result"
    }
   ],
   "source": [
    "valores_nulos=data.isnull().sum()\n",
    "valores_nulos"
   ]
  },
  {
   "cell_type": "markdown",
   "metadata": {},
   "source": [
    "TRATADO DE NULOS"
   ]
  },
  {
   "cell_type": "code",
   "execution_count": 10,
   "metadata": {},
   "outputs": [],
   "source": [
    "#Realizamos una copia del dataframe para el tratado de nulos\n",
    "data2=data.copy()"
   ]
  },
  {
   "cell_type": "code",
   "execution_count": 13,
   "metadata": {},
   "outputs": [],
   "source": [
    "#Sustitución de NA's con la moda porque se trata de una codificación en enteros y solo les falta un dato.\n",
    "data2[\"SECTOR\"]=data2[\"SECTOR\"].fillna(round(data[\"SECTOR\"].mode(),1))\n",
    "data2[\"ENTIDAD_UM\"]=data2[\"ENTIDAD_UM\"].fillna(round(data[\"ENTIDAD_UM\"].mode(),1))\n",
    "data2[\"SEXO\"]=data2[\"SEXO\"].fillna(round(data[\"SEXO\"].mode(),1))\n",
    "data2[\"MUNICIPIO_RES\"]=data2[\"MUNICIPIO_RES\"].fillna(round(data[\"MUNICIPIO_RES\"].mode(),1))"
   ]
  }
 ],
 "metadata": {
  "kernelspec": {
   "display_name": "Python 3.10.6 64-bit (windows store)",
   "language": "python",
   "name": "python3"
  },
  "language_info": {
   "codemirror_mode": {
    "name": "ipython",
    "version": 3
   },
   "file_extension": ".py",
   "mimetype": "text/x-python",
   "name": "python",
   "nbconvert_exporter": "python",
   "pygments_lexer": "ipython3",
   "version": "3.10.6"
  },
  "orig_nbformat": 4,
  "vscode": {
   "interpreter": {
    "hash": "8bdb6cfb01423875b53bbdacac8cafabfbfae2881293bc8f69e02add7339e574"
   }
  }
 },
 "nbformat": 4,
 "nbformat_minor": 2
}
